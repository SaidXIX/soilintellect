{
 "cells": [
  {
   "cell_type": "markdown",
   "id": "5407daa3-02f9-43a7-8af3-4712683dd98b",
   "metadata": {},
   "source": [
    "# **Multiclass Prediction Model**"
   ]
  },
  {
   "cell_type": "markdown",
   "id": "a84e2785-b484-4074-a9db-7171ac48457c",
   "metadata": {},
   "source": [
    "## **Loading Data**"
   ]
  },
  {
   "cell_type": "code",
   "execution_count": 3,
   "id": "44c90a5b",
   "metadata": {},
   "outputs": [
    {
     "data": {
      "text/html": [
       "<div>\n",
       "<style scoped>\n",
       "    .dataframe tbody tr th:only-of-type {\n",
       "        vertical-align: middle;\n",
       "    }\n",
       "\n",
       "    .dataframe tbody tr th {\n",
       "        vertical-align: top;\n",
       "    }\n",
       "\n",
       "    .dataframe thead th {\n",
       "        text-align: right;\n",
       "    }\n",
       "</style>\n",
       "<table border=\"1\" class=\"dataframe\">\n",
       "  <thead>\n",
       "    <tr style=\"text-align: right;\">\n",
       "      <th></th>\n",
       "      <th>N</th>\n",
       "      <th>P</th>\n",
       "      <th>K</th>\n",
       "      <th>temperature</th>\n",
       "      <th>humidity</th>\n",
       "      <th>ph</th>\n",
       "      <th>label</th>\n",
       "      <th>type</th>\n",
       "    </tr>\n",
       "  </thead>\n",
       "  <tbody>\n",
       "    <tr>\n",
       "      <th>0</th>\n",
       "      <td>90</td>\n",
       "      <td>42.0</td>\n",
       "      <td>43</td>\n",
       "      <td>20.879744</td>\n",
       "      <td>82.002744</td>\n",
       "      <td>6.502985</td>\n",
       "      <td>rice</td>\n",
       "      <td>loamy</td>\n",
       "    </tr>\n",
       "    <tr>\n",
       "      <th>1</th>\n",
       "      <td>85</td>\n",
       "      <td>58.0</td>\n",
       "      <td>41</td>\n",
       "      <td>21.770462</td>\n",
       "      <td>80.319644</td>\n",
       "      <td>7.038096</td>\n",
       "      <td>rice</td>\n",
       "      <td>loamy</td>\n",
       "    </tr>\n",
       "    <tr>\n",
       "      <th>2</th>\n",
       "      <td>60</td>\n",
       "      <td>55.0</td>\n",
       "      <td>44</td>\n",
       "      <td>23.004459</td>\n",
       "      <td>82.320763</td>\n",
       "      <td>7.840207</td>\n",
       "      <td>rice</td>\n",
       "      <td>loamy</td>\n",
       "    </tr>\n",
       "    <tr>\n",
       "      <th>3</th>\n",
       "      <td>74</td>\n",
       "      <td>35.0</td>\n",
       "      <td>40</td>\n",
       "      <td>26.491096</td>\n",
       "      <td>80.158363</td>\n",
       "      <td>6.980401</td>\n",
       "      <td>rice</td>\n",
       "      <td>loamy</td>\n",
       "    </tr>\n",
       "    <tr>\n",
       "      <th>4</th>\n",
       "      <td>78</td>\n",
       "      <td>42.0</td>\n",
       "      <td>42</td>\n",
       "      <td>20.130175</td>\n",
       "      <td>81.604873</td>\n",
       "      <td>7.628473</td>\n",
       "      <td>rice</td>\n",
       "      <td>loamy</td>\n",
       "    </tr>\n",
       "  </tbody>\n",
       "</table>\n",
       "</div>"
      ],
      "text/plain": [
       "    N     P   K  temperature   humidity        ph label   type\n",
       "0  90  42.0  43    20.879744  82.002744  6.502985  rice  loamy\n",
       "1  85  58.0  41    21.770462  80.319644  7.038096  rice  loamy\n",
       "2  60  55.0  44    23.004459  82.320763  7.840207  rice  loamy\n",
       "3  74  35.0  40    26.491096  80.158363  6.980401  rice  loamy\n",
       "4  78  42.0  42    20.130175  81.604873  7.628473  rice  loamy"
      ]
     },
     "execution_count": 3,
     "metadata": {},
     "output_type": "execute_result"
    }
   ],
   "source": [
    "import pandas as pd\n",
    "import numpy as np\n",
    "import matplotlib.pyplot as plt\n",
    "\n",
    "df = pd.read_csv('dataset.csv')\n",
    "df.head()"
   ]
  },
  {
   "cell_type": "code",
   "execution_count": 4,
   "id": "651d3622",
   "metadata": {
    "scrolled": true
   },
   "outputs": [
    {
     "name": "stdout",
     "output_type": "stream",
     "text": [
      "<class 'pandas.core.frame.DataFrame'>\n",
      "RangeIndex: 3080 entries, 0 to 3079\n",
      "Data columns (total 8 columns):\n",
      " #   Column       Non-Null Count  Dtype  \n",
      "---  ------       --------------  -----  \n",
      " 0   N            3080 non-null   int64  \n",
      " 1   P            3080 non-null   float64\n",
      " 2   K            3080 non-null   int64  \n",
      " 3   temperature  3080 non-null   float64\n",
      " 4   humidity     3080 non-null   float64\n",
      " 5   ph           3080 non-null   float64\n",
      " 6   label        3080 non-null   object \n",
      " 7   type         3080 non-null   object \n",
      "dtypes: float64(4), int64(2), object(2)\n",
      "memory usage: 192.6+ KB\n"
     ]
    }
   ],
   "source": [
    "df.info()"
   ]
  },
  {
   "cell_type": "markdown",
   "id": "03d14a41-5b5b-444c-af41-b633aa1ae620",
   "metadata": {},
   "source": [
    "### **Checking if the dataset has null values**"
   ]
  },
  {
   "cell_type": "code",
   "execution_count": 5,
   "id": "990093ae",
   "metadata": {
    "scrolled": true
   },
   "outputs": [
    {
     "data": {
      "text/plain": [
       "N              0\n",
       "P              0\n",
       "K              0\n",
       "temperature    0\n",
       "humidity       0\n",
       "ph             0\n",
       "label          0\n",
       "type           0\n",
       "dtype: int64"
      ]
     },
     "execution_count": 5,
     "metadata": {},
     "output_type": "execute_result"
    }
   ],
   "source": [
    "df.isnull().sum()"
   ]
  },
  {
   "cell_type": "markdown",
   "id": "edd35bca-136a-4ae1-a204-dd3a18b75eea",
   "metadata": {},
   "source": [
    "## **Data Splitting**"
   ]
  },
  {
   "cell_type": "code",
   "execution_count": 6,
   "id": "15a10098",
   "metadata": {},
   "outputs": [],
   "source": [
    "y = df[['label', 'type']]\n",
    "x = df.drop(['label', 'type'], axis = 1)\n",
    "\n"
   ]
  },
  {
   "cell_type": "code",
   "execution_count": 7,
   "id": "aa0ae613-3354-4dfc-a725-2eaec0170604",
   "metadata": {},
   "outputs": [
    {
     "data": {
      "text/html": [
       "<div>\n",
       "<style scoped>\n",
       "    .dataframe tbody tr th:only-of-type {\n",
       "        vertical-align: middle;\n",
       "    }\n",
       "\n",
       "    .dataframe tbody tr th {\n",
       "        vertical-align: top;\n",
       "    }\n",
       "\n",
       "    .dataframe thead th {\n",
       "        text-align: right;\n",
       "    }\n",
       "</style>\n",
       "<table border=\"1\" class=\"dataframe\">\n",
       "  <thead>\n",
       "    <tr style=\"text-align: right;\">\n",
       "      <th></th>\n",
       "      <th>label</th>\n",
       "      <th>type</th>\n",
       "    </tr>\n",
       "  </thead>\n",
       "  <tbody>\n",
       "    <tr>\n",
       "      <th>2318</th>\n",
       "      <td>jute</td>\n",
       "      <td>Alluvial</td>\n",
       "    </tr>\n",
       "    <tr>\n",
       "      <th>2183</th>\n",
       "      <td>coffee</td>\n",
       "      <td>Laterite</td>\n",
       "    </tr>\n",
       "    <tr>\n",
       "      <th>2689</th>\n",
       "      <td>jute</td>\n",
       "      <td>Alluvial</td>\n",
       "    </tr>\n",
       "    <tr>\n",
       "      <th>1205</th>\n",
       "      <td>grapes</td>\n",
       "      <td>well drained loamy</td>\n",
       "    </tr>\n",
       "    <tr>\n",
       "      <th>1527</th>\n",
       "      <td>apple</td>\n",
       "      <td>loamy</td>\n",
       "    </tr>\n",
       "    <tr>\n",
       "      <th>...</th>\n",
       "      <td>...</td>\n",
       "      <td>...</td>\n",
       "    </tr>\n",
       "    <tr>\n",
       "      <th>1930</th>\n",
       "      <td>cotton</td>\n",
       "      <td>sandy loam</td>\n",
       "    </tr>\n",
       "    <tr>\n",
       "      <th>79</th>\n",
       "      <td>rice</td>\n",
       "      <td>loamy</td>\n",
       "    </tr>\n",
       "    <tr>\n",
       "      <th>1859</th>\n",
       "      <td>coconut</td>\n",
       "      <td>sandy loam</td>\n",
       "    </tr>\n",
       "    <tr>\n",
       "      <th>2840</th>\n",
       "      <td>jute</td>\n",
       "      <td>Alluvial</td>\n",
       "    </tr>\n",
       "    <tr>\n",
       "      <th>1544</th>\n",
       "      <td>apple</td>\n",
       "      <td>loamy</td>\n",
       "    </tr>\n",
       "  </tbody>\n",
       "</table>\n",
       "<p>2464 rows × 2 columns</p>\n",
       "</div>"
      ],
      "text/plain": [
       "        label                 type\n",
       "2318     jute             Alluvial\n",
       "2183   coffee            Laterite \n",
       "2689     jute             Alluvial\n",
       "1205   grapes  well drained loamy \n",
       "1527    apple                loamy\n",
       "...       ...                  ...\n",
       "1930   cotton           sandy loam\n",
       "79       rice                loamy\n",
       "1859  coconut           sandy loam\n",
       "2840     jute             Alluvial\n",
       "1544    apple                loamy\n",
       "\n",
       "[2464 rows x 2 columns]"
      ]
     },
     "execution_count": 7,
     "metadata": {},
     "output_type": "execute_result"
    }
   ],
   "source": [
    "from sklearn.model_selection import train_test_split\n",
    "x_train, x_test, y_train, y_test = train_test_split(x, y, test_size=0.2, random_state=100)\n",
    "\n",
    "y_train"
   ]
  },
  {
   "cell_type": "code",
   "execution_count": 8,
   "id": "27b22148-85a1-4de3-8c20-20d0702477d4",
   "metadata": {},
   "outputs": [
    {
     "data": {
      "text/html": [
       "<div>\n",
       "<style scoped>\n",
       "    .dataframe tbody tr th:only-of-type {\n",
       "        vertical-align: middle;\n",
       "    }\n",
       "\n",
       "    .dataframe tbody tr th {\n",
       "        vertical-align: top;\n",
       "    }\n",
       "\n",
       "    .dataframe thead th {\n",
       "        text-align: right;\n",
       "    }\n",
       "</style>\n",
       "<table border=\"1\" class=\"dataframe\">\n",
       "  <thead>\n",
       "    <tr style=\"text-align: right;\">\n",
       "      <th></th>\n",
       "      <th>N</th>\n",
       "      <th>P</th>\n",
       "      <th>K</th>\n",
       "      <th>temperature</th>\n",
       "      <th>humidity</th>\n",
       "      <th>ph</th>\n",
       "    </tr>\n",
       "  </thead>\n",
       "  <tbody>\n",
       "    <tr>\n",
       "      <th>2318</th>\n",
       "      <td>119</td>\n",
       "      <td>8.3</td>\n",
       "      <td>444</td>\n",
       "      <td>18.488000</td>\n",
       "      <td>69.650000</td>\n",
       "      <td>7.600000</td>\n",
       "    </tr>\n",
       "    <tr>\n",
       "      <th>2183</th>\n",
       "      <td>93</td>\n",
       "      <td>26.0</td>\n",
       "      <td>27</td>\n",
       "      <td>24.592457</td>\n",
       "      <td>56.468296</td>\n",
       "      <td>7.288212</td>\n",
       "    </tr>\n",
       "    <tr>\n",
       "      <th>2689</th>\n",
       "      <td>333</td>\n",
       "      <td>6.8</td>\n",
       "      <td>422</td>\n",
       "      <td>20.757000</td>\n",
       "      <td>69.742000</td>\n",
       "      <td>7.720000</td>\n",
       "    </tr>\n",
       "    <tr>\n",
       "      <th>1205</th>\n",
       "      <td>2</td>\n",
       "      <td>123.0</td>\n",
       "      <td>198</td>\n",
       "      <td>39.648519</td>\n",
       "      <td>82.210799</td>\n",
       "      <td>6.253035</td>\n",
       "    </tr>\n",
       "    <tr>\n",
       "      <th>1527</th>\n",
       "      <td>25</td>\n",
       "      <td>143.0</td>\n",
       "      <td>198</td>\n",
       "      <td>22.812125</td>\n",
       "      <td>91.518617</td>\n",
       "      <td>6.027314</td>\n",
       "    </tr>\n",
       "    <tr>\n",
       "      <th>...</th>\n",
       "      <td>...</td>\n",
       "      <td>...</td>\n",
       "      <td>...</td>\n",
       "      <td>...</td>\n",
       "      <td>...</td>\n",
       "      <td>...</td>\n",
       "    </tr>\n",
       "    <tr>\n",
       "      <th>1930</th>\n",
       "      <td>118</td>\n",
       "      <td>45.0</td>\n",
       "      <td>23</td>\n",
       "      <td>23.370444</td>\n",
       "      <td>77.431989</td>\n",
       "      <td>7.977651</td>\n",
       "    </tr>\n",
       "    <tr>\n",
       "      <th>79</th>\n",
       "      <td>81</td>\n",
       "      <td>41.0</td>\n",
       "      <td>38</td>\n",
       "      <td>22.678461</td>\n",
       "      <td>83.728744</td>\n",
       "      <td>7.524080</td>\n",
       "    </tr>\n",
       "    <tr>\n",
       "      <th>1859</th>\n",
       "      <td>37</td>\n",
       "      <td>10.0</td>\n",
       "      <td>32</td>\n",
       "      <td>28.963183</td>\n",
       "      <td>95.163337</td>\n",
       "      <td>6.165085</td>\n",
       "    </tr>\n",
       "    <tr>\n",
       "      <th>2840</th>\n",
       "      <td>182</td>\n",
       "      <td>9.2</td>\n",
       "      <td>465</td>\n",
       "      <td>18.555000</td>\n",
       "      <td>69.524000</td>\n",
       "      <td>7.400000</td>\n",
       "    </tr>\n",
       "    <tr>\n",
       "      <th>1544</th>\n",
       "      <td>2</td>\n",
       "      <td>123.0</td>\n",
       "      <td>205</td>\n",
       "      <td>22.366293</td>\n",
       "      <td>90.785725</td>\n",
       "      <td>5.739652</td>\n",
       "    </tr>\n",
       "  </tbody>\n",
       "</table>\n",
       "<p>2464 rows × 6 columns</p>\n",
       "</div>"
      ],
      "text/plain": [
       "        N      P    K  temperature   humidity        ph\n",
       "2318  119    8.3  444    18.488000  69.650000  7.600000\n",
       "2183   93   26.0   27    24.592457  56.468296  7.288212\n",
       "2689  333    6.8  422    20.757000  69.742000  7.720000\n",
       "1205    2  123.0  198    39.648519  82.210799  6.253035\n",
       "1527   25  143.0  198    22.812125  91.518617  6.027314\n",
       "...   ...    ...  ...          ...        ...       ...\n",
       "1930  118   45.0   23    23.370444  77.431989  7.977651\n",
       "79     81   41.0   38    22.678461  83.728744  7.524080\n",
       "1859   37   10.0   32    28.963183  95.163337  6.165085\n",
       "2840  182    9.2  465    18.555000  69.524000  7.400000\n",
       "1544    2  123.0  205    22.366293  90.785725  5.739652\n",
       "\n",
       "[2464 rows x 6 columns]"
      ]
     },
     "execution_count": 8,
     "metadata": {},
     "output_type": "execute_result"
    }
   ],
   "source": [
    "x_train"
   ]
  },
  {
   "cell_type": "markdown",
   "id": "5dabcbfe-5487-4438-9b1e-a81af49e7798",
   "metadata": {},
   "source": [
    "## **K-Nearest Neighbors**"
   ]
  },
  {
   "cell_type": "markdown",
   "id": "70b56b95-f8a5-4773-9394-05f81643feb7",
   "metadata": {},
   "source": [
    "### **Model Building**"
   ]
  },
  {
   "cell_type": "code",
   "execution_count": 8,
   "id": "457dad74-567a-429f-b837-64a7553284ea",
   "metadata": {},
   "outputs": [
    {
     "data": {
      "text/plain": [
       "array([['cotton', 'sandy loam'],\n",
       "       ['orange', 'loamy'],\n",
       "       ['chickpea', 'sandy loam'],\n",
       "       ...,\n",
       "       ['kidneybeans', 'sandy loam'],\n",
       "       ['watermelon', 'well drained loamy '],\n",
       "       ['mungbean', 'loamy']], dtype=object)"
      ]
     },
     "execution_count": 8,
     "metadata": {},
     "output_type": "execute_result"
    }
   ],
   "source": [
    "from sklearn.multioutput import MultiOutputClassifier\n",
    "from sklearn.neighbors import KNeighborsClassifier\n",
    "\n",
    "knn = KNeighborsClassifier(n_neighbors=4)\n",
    "knn_multi_classifier = MultiOutputClassifier(knn, n_jobs=-1)\n",
    "knn_multi_classifier.fit(x_train,y_train)\n",
    "y_knn_multi_pred = knn_multi_classifier.predict(x_test)\n",
    "\n",
    "y_knn_multi_pred"
   ]
  },
  {
   "cell_type": "markdown",
   "id": "5c673c43-9a12-461c-b85d-565c47cefc01",
   "metadata": {},
   "source": [
    "### **Model Evaluation**"
   ]
  },
  {
   "cell_type": "code",
   "execution_count": 20,
   "id": "aa04b121-4a2d-4269-93f6-50a499f18231",
   "metadata": {},
   "outputs": [
    {
     "name": "stdout",
     "output_type": "stream",
     "text": [
      "Average Accuracy(KNN): 0.9464285714285714\n"
     ]
    }
   ],
   "source": [
    "from sklearn.metrics import accuracy_score\n",
    "\n",
    "# Calculate accuracy for each target variable\n",
    "\n",
    "accuracy_scores = []\n",
    "for i in range(y_test.shape[1]):\n",
    "    accuracy_y_i = accuracy_score(y_test.iloc[:, i], y_knn_multi_pred[:, i])\n",
    "    accuracy_scores.append(accuracy_y_i)\n",
    "\n",
    "# Compute the average accuracy across all target variables\n",
    "average_accuracy_knn = sum(accuracy_scores) / len(accuracy_scores)\n",
    "\n",
    "print(\"Average Accuracy(KNN):\", average_accuracy_knn)\n"
   ]
  },
  {
   "cell_type": "markdown",
   "id": "931fb44f-6c47-4b65-8294-cff387388043",
   "metadata": {},
   "source": [
    "## **Random Forest**"
   ]
  },
  {
   "cell_type": "markdown",
   "id": "85b0f7dc-cd21-4b55-984d-8eabe184766d",
   "metadata": {},
   "source": [
    "### **Model Building**"
   ]
  },
  {
   "cell_type": "code",
   "execution_count": 10,
   "id": "500a4a48-a59e-4f27-9533-8ca77e1eccc1",
   "metadata": {},
   "outputs": [
    {
     "name": "stdout",
     "output_type": "stream",
     "text": [
      "Predictions (Random Forest): [['cotton' 'sandy loam']\n",
      " ['orange' 'loamy']\n",
      " ['chickpea' 'sandy loam']\n",
      " ...\n",
      " ['kidneybeans' 'sandy loam']\n",
      " ['watermelon' 'well drained loamy ']\n",
      " ['mungbean' 'loamy']]\n"
     ]
    }
   ],
   "source": [
    "from sklearn.multioutput import MultiOutputClassifier\n",
    "from sklearn.ensemble import RandomForestClassifier\n",
    "\n",
    "rf = RandomForestClassifier(n_estimators=100, random_state=42)\n",
    "rf_multi_classifier = MultiOutputClassifier(rf, n_jobs=-1)\n",
    "rf_multi_classifier.fit(x_train, y_train)\n",
    "y_rf_multi_pred = rf_multi_classifier.predict(x_test)\n",
    "\n",
    "print(\"Predictions (Random Forest):\", y_rf_multi_pred)"
   ]
  },
  {
   "cell_type": "markdown",
   "id": "e3539b9e-fb7f-41f5-a570-a34e7e546d56",
   "metadata": {},
   "source": [
    "### **Model Evaluation**"
   ]
  },
  {
   "cell_type": "code",
   "execution_count": 21,
   "id": "1fd4c7d5-f3c4-4a08-a29d-020edb4dacdd",
   "metadata": {},
   "outputs": [
    {
     "name": "stdout",
     "output_type": "stream",
     "text": [
      "Average Accuracy(Random Forest): 0.9821428571428572\n"
     ]
    }
   ],
   "source": [
    "from sklearn.metrics import accuracy_score\n",
    "\n",
    "# Calculate accuracy for each target variable\n",
    "\n",
    "accuracy_scores = []\n",
    "for i in range(y_test.shape[1]):\n",
    "    accuracy_y_i = accuracy_score(y_test.iloc[:, i], y_rf_multi_pred[:, i])\n",
    "    accuracy_scores.append(accuracy_y_i)\n",
    "\n",
    "# Compute the average accuracy across all target variables\n",
    "average_accuracy_rf = sum(accuracy_scores) / len(accuracy_scores)\n",
    "\n",
    "print(\"Average Accuracy(Random Forest):\", average_accuracy_rf)\n"
   ]
  },
  {
   "cell_type": "markdown",
   "id": "0560a1e7-0b62-4387-bd0e-ca90f4b25023",
   "metadata": {},
   "source": [
    "## **Support Vectore Machines**"
   ]
  },
  {
   "cell_type": "markdown",
   "id": "b526cee6-b6fa-453b-b051-e610695dd50d",
   "metadata": {},
   "source": [
    "### **Model Building**"
   ]
  },
  {
   "cell_type": "code",
   "execution_count": 13,
   "id": "6832a411-ed2d-4f37-9ba1-df6539905143",
   "metadata": {},
   "outputs": [
    {
     "name": "stdout",
     "output_type": "stream",
     "text": [
      "Predictions (SVM): [['cotton' 'Laterite ']\n",
      " ['orange' 'loamy']\n",
      " ['chickpea' 'sandy loam']\n",
      " ...\n",
      " ['kidneybeans' 'sandy loam']\n",
      " ['watermelon' 'loamy']\n",
      " ['mungbean' 'loamy']]\n"
     ]
    }
   ],
   "source": [
    "from sklearn.multioutput import MultiOutputClassifier\n",
    "from sklearn.svm import SVC\n",
    "\n",
    "svm = SVC(kernel='linear', C=1.0, random_state=42)\n",
    "svm_multi_classifier = MultiOutputClassifier(svm)\n",
    "svm_multi_classifier.fit(x_train, y_train)\n",
    "y_svm_multi_pred = svm_multi_classifier.predict(x_test)\n",
    "\n",
    "print(\"Predictions (SVM):\", y_svm_multi_pred)"
   ]
  },
  {
   "cell_type": "markdown",
   "id": "124a4694-2372-417e-8d70-b21a5706d12e",
   "metadata": {},
   "source": [
    "### **Model Evaluation**"
   ]
  },
  {
   "cell_type": "code",
   "execution_count": 22,
   "id": "4970cf57-f25f-4fae-8291-34c87ae151a2",
   "metadata": {},
   "outputs": [
    {
     "name": "stdout",
     "output_type": "stream",
     "text": [
      "Average Accuracy(SVM): 0.8628246753246753\n"
     ]
    }
   ],
   "source": [
    "from sklearn.metrics import accuracy_score\n",
    "\n",
    "# Calculate accuracy for each target variable\n",
    "\n",
    "accuracy_scores = []\n",
    "for i in range(y_test.shape[1]):\n",
    "    accuracy_y_i = accuracy_score(y_test.iloc[:, i], y_svm_multi_pred[:, i])\n",
    "    accuracy_scores.append(accuracy_y_i)\n",
    "\n",
    "# Compute the average accuracy across all target variables\n",
    "average_accuracy_svm = sum(accuracy_scores) / len(accuracy_scores)\n",
    "\n",
    "print(\"Average Accuracy(SVM):\", average_accuracy_svm)\n"
   ]
  },
  {
   "cell_type": "markdown",
   "id": "553d3863-5316-4b81-86a9-a918be98a089",
   "metadata": {},
   "source": [
    "## **Decision Tree**"
   ]
  },
  {
   "cell_type": "markdown",
   "id": "e70ac5a3-e94c-49d1-a348-cdf9f31b5f37",
   "metadata": {},
   "source": [
    "### **Model Building**"
   ]
  },
  {
   "cell_type": "code",
   "execution_count": 23,
   "id": "532c0584-f44e-46a3-b306-17209b8a7c70",
   "metadata": {},
   "outputs": [
    {
     "name": "stdout",
     "output_type": "stream",
     "text": [
      "Predictions (Decision Tree): [['cotton' 'sandy loam']\n",
      " ['orange' 'loamy']\n",
      " ['chickpea' 'sandy loam']\n",
      " ...\n",
      " ['chickpea' 'sandy loam']\n",
      " ['watermelon' 'well drained loamy ']\n",
      " ['orange' 'loamy']]\n"
     ]
    }
   ],
   "source": [
    "from sklearn.multioutput import MultiOutputClassifier\n",
    "from sklearn.tree import DecisionTreeClassifier\n",
    "dt = DecisionTreeClassifier(max_depth=5, random_state=42)\n",
    "dt_multi_classifier = MultiOutputClassifier(dt)\n",
    "dt_multi_classifier.fit(x_train, y_train)\n",
    "y_dt_multi_pred = dt_multi_classifier.predict(x_test)\n",
    "\n",
    "print(\"Predictions (Decision Tree):\", y_dt_multi_pred)"
   ]
  },
  {
   "cell_type": "markdown",
   "id": "dc708b93-c995-41a4-9136-a9b68dac590a",
   "metadata": {},
   "source": [
    "### **Model Evaluation**"
   ]
  },
  {
   "cell_type": "code",
   "execution_count": 31,
   "id": "17252261-1cbf-4f85-8745-a8e54b5c9990",
   "metadata": {},
   "outputs": [
    {
     "name": "stdout",
     "output_type": "stream",
     "text": [
      "Average Accuracy(Decision Tree): 0.7378246753246753\n"
     ]
    }
   ],
   "source": [
    "from sklearn.metrics import accuracy_score\n",
    "\n",
    "# Calculate accuracy for each target variable\n",
    "\n",
    "accuracy_scores = []\n",
    "for i in range(y_test.shape[1]):\n",
    "    accuracy_y_i = accuracy_score(y_test.iloc[:, i], y_dt_multi_pred[:, i])\n",
    "    accuracy_scores.append(accuracy_y_i)\n",
    "\n",
    "# Compute the average accuracy across all target variables\n",
    "average_accuracy_dt = sum(accuracy_scores) / len(accuracy_scores)\n",
    "\n",
    "print(\"Average Accuracy(Decision Tree):\", average_accuracy_dt)\n"
   ]
  },
  {
   "cell_type": "markdown",
   "id": "2cb2109e-dee0-480c-8cc6-2c393ec2f6f2",
   "metadata": {},
   "source": [
    "## **Gradient Boosting**"
   ]
  },
  {
   "cell_type": "markdown",
   "id": "109a2377-af2b-4102-8c57-ddf9138e48fe",
   "metadata": {},
   "source": [
    "### **Model Building**"
   ]
  },
  {
   "cell_type": "code",
   "execution_count": 9,
   "id": "aef736c3-2ec2-47c5-8fd2-79cfbc5e8fde",
   "metadata": {},
   "outputs": [
    {
     "name": "stdout",
     "output_type": "stream",
     "text": [
      "Predictions (Gradient Boosting): [['cotton' 'sandy loam']\n",
      " ['orange' 'loamy']\n",
      " ['chickpea' 'sandy loam']\n",
      " ...\n",
      " ['kidneybeans' 'sandy loam']\n",
      " ['watermelon' 'well drained loamy ']\n",
      " ['mungbean' 'loamy']]\n"
     ]
    }
   ],
   "source": [
    "from sklearn.multioutput import MultiOutputClassifier\n",
    "from sklearn.ensemble import GradientBoostingClassifier\n",
    "\n",
    "gb = GradientBoostingClassifier(n_estimators=100, max_depth=3, random_state=42)\n",
    "gb_multi_classifier = MultiOutputClassifier(gb)\n",
    "gb_multi_classifier.fit(x_train, y_train)\n",
    "y_gb_multi_pred = gb_multi_classifier.predict(x_test)\n",
    "\n",
    "print(\"Predictions (Gradient Boosting):\", y_gb_multi_pred)"
   ]
  },
  {
   "cell_type": "markdown",
   "id": "4ca339de-ea2b-4317-b678-c43050097efc",
   "metadata": {},
   "source": [
    "### **Model Evaluation**"
   ]
  },
  {
   "cell_type": "code",
   "execution_count": 10,
   "id": "6f031ad6-61d6-49c7-818e-e7b3be02f0e2",
   "metadata": {},
   "outputs": [
    {
     "name": "stdout",
     "output_type": "stream",
     "text": [
      "Average Accuracy(Gaussian NB): 0.9715909090909091\n"
     ]
    }
   ],
   "source": [
    "from sklearn.metrics import accuracy_score\n",
    "\n",
    "# Calculate accuracy for each target variable\n",
    "\n",
    "accuracy_scores = []\n",
    "for i in range(y_test.shape[1]):\n",
    "    accuracy_y_i = accuracy_score(y_test.iloc[:, i], y_gb_multi_pred[:, i])\n",
    "    accuracy_scores.append(accuracy_y_i)\n",
    "\n",
    "# Compute the average accuracy across all target variables\n",
    "average_accuracy_gb = sum(accuracy_scores) / len(accuracy_scores)\n",
    "\n",
    "print(\"Average Accuracy(Gaussian NB):\", average_accuracy_gb)\n"
   ]
  },
  {
   "cell_type": "markdown",
   "id": "73970ca1-a802-4f45-b36d-bb00564326a3",
   "metadata": {},
   "source": [
    "## **Gaussian Naive Bayes**"
   ]
  },
  {
   "cell_type": "markdown",
   "id": "fb8883fa-862c-4f0a-9914-1f2cae54824d",
   "metadata": {},
   "source": [
    "### **Model Building**"
   ]
  },
  {
   "cell_type": "code",
   "execution_count": 32,
   "id": "f43bb8cd-79bb-4859-8230-f217c76d10fc",
   "metadata": {},
   "outputs": [
    {
     "name": "stdout",
     "output_type": "stream",
     "text": [
      "Predictions (Gaussian Naive Bayes): [['cotton' 'loamy']\n",
      " ['orange' 'loamy']\n",
      " ['chickpea' 'sandy loam']\n",
      " ...\n",
      " ['kidneybeans' 'sandy loam']\n",
      " ['rice' 'loamy']\n",
      " ['mungbean' 'sandy loam']]\n"
     ]
    }
   ],
   "source": [
    "from sklearn.multioutput import MultiOutputClassifier\n",
    "from sklearn.naive_bayes import GaussianNB\n",
    "gnb = GaussianNB()\n",
    "gnb_multi_classifier = MultiOutputClassifier(gnb)\n",
    "gnb_multi_classifier.fit(x_train, y_train)\n",
    "y_gnb_multi_pred = gnb_multi_classifier.predict(x_test)\n",
    "\n",
    "print(\"Predictions (Gaussian Naive Bayes):\", y_gnb_multi_pred)"
   ]
  },
  {
   "cell_type": "markdown",
   "id": "7d6bc919-39bf-4a7d-8f44-c8e1fb8e241e",
   "metadata": {},
   "source": [
    "### **Model Evaluation**"
   ]
  },
  {
   "cell_type": "code",
   "execution_count": 34,
   "id": "1db4ffad-416e-4f95-975d-2c811f87008e",
   "metadata": {},
   "outputs": [
    {
     "name": "stdout",
     "output_type": "stream",
     "text": [
      "Average Accuracy(Gaussian Nb): 0.7646103896103896\n"
     ]
    }
   ],
   "source": [
    "from sklearn.metrics import accuracy_score\n",
    "\n",
    "# Calculate accuracy for each target variable\n",
    "\n",
    "accuracy_scores = []\n",
    "for i in range(y_test.shape[1]):\n",
    "    accuracy_y_i = accuracy_score(y_test.iloc[:, i], y_gnb_multi_pred[:, i])\n",
    "    accuracy_scores.append(accuracy_y_i)\n",
    "\n",
    "# Compute the average accuracy across all target variables\n",
    "average_accuracy_gnb = sum(accuracy_scores) / len(accuracy_scores)\n",
    "\n",
    "print(\"Average Accuracy(Gaussian Nb):\", average_accuracy_gnb)\n"
   ]
  },
  {
   "cell_type": "markdown",
   "id": "06b01eac-5375-476e-b74e-9f90a7e935ea",
   "metadata": {},
   "source": [
    "## **Model Comparison**"
   ]
  },
  {
   "cell_type": "code",
   "execution_count": 35,
   "id": "0fc186e7-51f2-4ee4-91ae-649d03892d1e",
   "metadata": {},
   "outputs": [
    {
     "data": {
      "text/html": [
       "<div>\n",
       "<style scoped>\n",
       "    .dataframe tbody tr th:only-of-type {\n",
       "        vertical-align: middle;\n",
       "    }\n",
       "\n",
       "    .dataframe tbody tr th {\n",
       "        vertical-align: top;\n",
       "    }\n",
       "\n",
       "    .dataframe thead th {\n",
       "        text-align: right;\n",
       "    }\n",
       "</style>\n",
       "<table border=\"1\" class=\"dataframe\">\n",
       "  <thead>\n",
       "    <tr style=\"text-align: right;\">\n",
       "      <th></th>\n",
       "      <th>Classifier</th>\n",
       "      <th>Average Accuracy</th>\n",
       "    </tr>\n",
       "  </thead>\n",
       "  <tbody>\n",
       "    <tr>\n",
       "      <th>0</th>\n",
       "      <td>KNN</td>\n",
       "      <td>0.946429</td>\n",
       "    </tr>\n",
       "    <tr>\n",
       "      <th>1</th>\n",
       "      <td>Random Forest</td>\n",
       "      <td>0.982143</td>\n",
       "    </tr>\n",
       "    <tr>\n",
       "      <th>2</th>\n",
       "      <td>SVM</td>\n",
       "      <td>0.862825</td>\n",
       "    </tr>\n",
       "    <tr>\n",
       "      <th>3</th>\n",
       "      <td>Decision Tree</td>\n",
       "      <td>0.737825</td>\n",
       "    </tr>\n",
       "    <tr>\n",
       "      <th>4</th>\n",
       "      <td>Gradient Boosting</td>\n",
       "      <td>0.971591</td>\n",
       "    </tr>\n",
       "    <tr>\n",
       "      <th>5</th>\n",
       "      <td>Gaussian Naive Bayes</td>\n",
       "      <td>0.764610</td>\n",
       "    </tr>\n",
       "  </tbody>\n",
       "</table>\n",
       "</div>"
      ],
      "text/plain": [
       "             Classifier  Average Accuracy\n",
       "0                   KNN          0.946429\n",
       "1         Random Forest          0.982143\n",
       "2                   SVM          0.862825\n",
       "3         Decision Tree          0.737825\n",
       "4     Gradient Boosting          0.971591\n",
       "5  Gaussian Naive Bayes          0.764610"
      ]
     },
     "execution_count": 35,
     "metadata": {},
     "output_type": "execute_result"
    }
   ],
   "source": [
    "accuracies = {\n",
    "    'Classifier': ['KNN', 'Random Forest', 'SVM', 'Decision Tree', 'Gradient Boosting', 'Gaussian Naive Bayes'],\n",
    "    'Average Accuracy': [average_accuracy_knn, average_accuracy_rf, average_accuracy_svm,\n",
    "                         average_accuracy_dt, average_accuracy_gb, average_accuracy_gnb]\n",
    "}\n",
    "accuracy_table = pd.DataFrame(accuracies)\n",
    "\n",
    "accuracy_table"
   ]
  },
  {
   "cell_type": "markdown",
   "id": "775c6749-5f6c-4216-85d8-4e6e9e31c8c0",
   "metadata": {},
   "source": [
    "## **Top 3 MultiClassification Prediction**"
   ]
  },
  {
   "cell_type": "code",
   "execution_count": 11,
   "id": "fa4df764-193d-46a6-946b-8783a9a1d7f3",
   "metadata": {},
   "outputs": [
    {
     "name": "stdout",
     "output_type": "stream",
     "text": [
      "Top 3 Predictions for Target variable 1:\n",
      "1. Class: lentil, Probability: 67.4102\n",
      "2. Class: jute, Probability: 25.8292\n",
      "3. Class: pigeonpeas, Probability: 2.3512\n",
      "------------------------------------------\n",
      "Top 3 Predictions for Target variable 2:\n",
      "1. Class: loamy, Probability: 52.2137\n",
      "2. Class: sandy loam, Probability: 47.5685\n",
      "3. Class: Alluvial, Probability: 0.1609\n",
      "------------------------------------------\n",
      "Overall Prediction: ['lentil' 'loamy']\n"
     ]
    },
    {
     "name": "stderr",
     "output_type": "stream",
     "text": [
      "C:\\Users\\Super\\anaconda3\\Lib\\site-packages\\sklearn\\base.py:439: UserWarning: X does not have valid feature names, but GradientBoostingClassifier was fitted with feature names\n",
      "  warnings.warn(\n",
      "C:\\Users\\Super\\anaconda3\\Lib\\site-packages\\sklearn\\base.py:439: UserWarning: X does not have valid feature names, but GradientBoostingClassifier was fitted with feature names\n",
      "  warnings.warn(\n",
      "C:\\Users\\Super\\anaconda3\\Lib\\site-packages\\sklearn\\base.py:439: UserWarning: X does not have valid feature names, but GradientBoostingClassifier was fitted with feature names\n",
      "  warnings.warn(\n",
      "C:\\Users\\Super\\anaconda3\\Lib\\site-packages\\sklearn\\base.py:439: UserWarning: X does not have valid feature names, but GradientBoostingClassifier was fitted with feature names\n",
      "  warnings.warn(\n"
     ]
    }
   ],
   "source": [
    "sample_array = np.array([[10, 40, 30, 25, 65, 6.8]])\n",
    "\n",
    "probabilities = gb_multi_classifier.predict_proba(sample_array)\n",
    "prediction = gb_multi_classifier.predict(sample_array)\n",
    "\n",
    "probabilities_scaled = [[prob * 100 for prob in target_probs[0]] for target_probs in probabilities]\n",
    "\n",
    "top3_indices_per_target_variable = [np.argsort(target_probs)[0][-3:][::-1] for target_probs in probabilities]\n",
    "\n",
    "for i, (top3_indices, probs) in enumerate(zip(top3_indices_per_target_variable, probabilities_scaled)):\n",
    "    print(\"Top 3 Predictions for Target variable {}:\".format(i+1))\n",
    "    for j, index in enumerate(top3_indices):\n",
    "        if index < len(gb_multi_classifier.classes_[i]):\n",
    "            class_name = gb_multi_classifier.classes_[i][index]\n",
    "            print(\"{}. Class: {}, Probability: {:.4f}\".format(j+1, class_name, probs[index]))\n",
    "        else:\n",
    "            print(\"{}. Class: Out of range, Probability: {:.4f}\".format(j+1, probs[index]))\n",
    "    print(\"------------------------------------------\")\n",
    "\n",
    "# Overall prediction\n",
    "print(\"Overall Prediction:\", prediction[0])"
   ]
  },
  {
   "cell_type": "markdown",
   "id": "ddd58b2b-8d00-42ef-85e6-ce4229bbee87",
   "metadata": {},
   "source": [
    "## **Export the model into a seperate file**"
   ]
  },
  {
   "cell_type": "code",
   "execution_count": 17,
   "id": "d3bb9df9-59dc-4dd2-8352-42359d3bdda2",
   "metadata": {},
   "outputs": [
    {
     "data": {
      "text/plain": [
       "['model.pkl']"
      ]
     },
     "execution_count": 17,
     "metadata": {},
     "output_type": "execute_result"
    }
   ],
   "source": [
    "import joblib\n",
    "import pickle\n",
    "\n",
    "file_name = 'model.pkl'\n",
    "joblib.dump(gb_multi_classifier, file_name)"
   ]
  }
 ],
 "metadata": {
  "kernelspec": {
   "display_name": "Python 3 (ipykernel)",
   "language": "python",
   "name": "python3"
  },
  "language_info": {
   "codemirror_mode": {
    "name": "ipython",
    "version": 3
   },
   "file_extension": ".py",
   "mimetype": "text/x-python",
   "name": "python",
   "nbconvert_exporter": "python",
   "pygments_lexer": "ipython3",
   "version": "3.11.7"
  }
 },
 "nbformat": 4,
 "nbformat_minor": 5
}
